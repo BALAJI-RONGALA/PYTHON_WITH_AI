{
 "cells": [
  {
   "cell_type": "code",
   "execution_count": 1,
   "id": "995fe6b8",
   "metadata": {},
   "outputs": [
    {
     "name": "stdout",
     "output_type": "stream",
     "text": [
      "hello\n"
     ]
    }
   ],
   "source": [
    "print(\"hello\")"
   ]
  },
  {
   "cell_type": "markdown",
   "id": "557295bf",
   "metadata": {},
   "source": [
    "# balu\n",
    "## sam\n",
    "### perm\n",
    "#### nani\n",
    "- python\n",
    "  - python 1\n",
    "  - python 2\n",
    "      - python 1\n",
    "      - python 2\n",
    "      \n",
    " - *python*\n",
    " - **python**\n",
    "- ***balu***"
   ]
  },
  {
   "cell_type": "markdown",
   "id": "a503c791",
   "metadata": {},
   "source": [
    "# python"
   ]
  },
  {
   "cell_type": "code",
   "execution_count": 2,
   "id": "7a37a016",
   "metadata": {
    "scrolled": false
   },
   "outputs": [
    {
     "name": "stdout",
     "output_type": "stream",
     "text": [
      "hello\n"
     ]
    }
   ],
   "source": [
    "print(\"hello\")"
   ]
  },
  {
   "cell_type": "code",
   "execution_count": null,
   "id": "ca09d85a",
   "metadata": {},
   "outputs": [],
   "source": []
  },
  {
   "cell_type": "markdown",
   "id": "30d8d8e4",
   "metadata": {},
   "source": [
    "print(\"balu\",\"samuel\")"
   ]
  },
  {
   "cell_type": "code",
   "execution_count": 4,
   "id": "1f4910eb",
   "metadata": {},
   "outputs": [
    {
     "name": "stdout",
     "output_type": "stream",
     "text": [
      "NANI BALU\n"
     ]
    }
   ],
   "source": [
    "print(\"NANI\",\"BALU\")"
   ]
  },
  {
   "cell_type": "code",
   "execution_count": 35,
   "id": "9165f5ba",
   "metadata": {},
   "outputs": [
    {
     "name": "stdout",
     "output_type": "stream",
     "text": [
      "balu sister laxmi lavyana\n"
     ]
    }
   ],
   "source": [
    "print(\"balu sister laxmi lavyana\")"
   ]
  },
  {
   "cell_type": "code",
   "execution_count": 6,
   "id": "9e1ae253",
   "metadata": {},
   "outputs": [
    {
     "name": "stdout",
     "output_type": "stream",
     "text": [
      "hii sindhu\n"
     ]
    }
   ],
   "source": [
    "print(\"hii sindhu\")"
   ]
  },
  {
   "cell_type": "markdown",
   "id": "fc1de3c2",
   "metadata": {},
   "source": [
    "# varibles"
   ]
  },
  {
   "cell_type": "code",
   "execution_count": 9,
   "id": "6780568d",
   "metadata": {},
   "outputs": [
    {
     "name": "stdout",
     "output_type": "stream",
     "text": [
      "2\n"
     ]
    }
   ],
   "source": [
    "a = 2 #single varible assained to single value#\n",
    "print(a)"
   ]
  },
  {
   "cell_type": "code",
   "execution_count": 10,
   "id": "94515503",
   "metadata": {},
   "outputs": [
    {
     "name": "stdout",
     "output_type": "stream",
     "text": [
      "10 10 10\n"
     ]
    }
   ],
   "source": [
    "a= b= c= 10#multiple varible assasined to single value#\n",
    "print(a,b,c)"
   ]
  },
  {
   "cell_type": "code",
   "execution_count": 11,
   "id": "4e84cfe2",
   "metadata": {},
   "outputs": [
    {
     "name": "stdout",
     "output_type": "stream",
     "text": [
      "10 20 30\n"
     ]
    }
   ],
   "source": [
    "a,b,c=10,20,30 #multiple varibles assasined to multiple values#\n",
    "print(a,b,c)"
   ]
  },
  {
   "cell_type": "markdown",
   "id": "d2e5f353",
   "metadata": {},
   "source": [
    "# data types\n",
    "- int\n",
    "- floot\n",
    "- strings"
   ]
  },
  {
   "cell_type": "code",
   "execution_count": 13,
   "id": "719b4d32",
   "metadata": {},
   "outputs": [
    {
     "name": "stdout",
     "output_type": "stream",
     "text": [
      "5\n",
      "<class 'int'>\n"
     ]
    }
   ],
   "source": [
    "#int\n",
    "a=5\n",
    "print(a)\n",
    "print(type(a))"
   ]
  },
  {
   "cell_type": "code",
   "execution_count": 15,
   "id": "97df508c",
   "metadata": {},
   "outputs": [
    {
     "name": "stdout",
     "output_type": "stream",
     "text": [
      "1.7 <class 'float'>\n"
     ]
    }
   ],
   "source": [
    "#floot\n",
    "f=1.7\n",
    "print(f,type(f))"
   ]
  },
  {
   "cell_type": "code",
   "execution_count": 16,
   "id": "429772e2",
   "metadata": {},
   "outputs": [
    {
     "name": "stdout",
     "output_type": "stream",
     "text": [
      "balu <class 'str'>\n"
     ]
    }
   ],
   "source": [
    "#string\n",
    "s='balu'\n",
    "print(s,type(s))"
   ]
  },
  {
   "cell_type": "markdown",
   "id": "2f9ee174",
   "metadata": {},
   "source": [
    "# Data convertion:\n",
    "- integers--> *int*\n",
    "- flooting--> *float*\n",
    "- stiring--> *str*\n"
   ]
  },
  {
   "cell_type": "code",
   "execution_count": 21,
   "id": "a212ebf1",
   "metadata": {},
   "outputs": [
    {
     "name": "stdout",
     "output_type": "stream",
     "text": [
      "3 <class 'int'>\n",
      "3.0 <class 'float'>\n",
      "3 <class 'str'>\n"
     ]
    }
   ],
   "source": [
    "n=3\n",
    "print(n,type(n))\n",
    "f=float(n)\n",
    "print(f,type(f))\n",
    "s=str(n)\n",
    "print(s,type(s))"
   ]
  },
  {
   "cell_type": "code",
   "execution_count": 25,
   "id": "1a6befa6",
   "metadata": {},
   "outputs": [
    {
     "name": "stdout",
     "output_type": "stream",
     "text": [
      "546 <class 'int'>\n",
      "546 <class 'int'>\n",
      "546 <class 'str'>\n"
     ]
    }
   ],
   "source": [
    "f=546\n",
    "print(f,type(f))\n",
    "n=int(f)\n",
    "print(n,type(n))\n",
    "s=str(f)\n",
    "print(s,type(s))"
   ]
  },
  {
   "cell_type": "code",
   "execution_count": 24,
   "id": "a49f83ef",
   "metadata": {},
   "outputs": [
    {
     "name": "stdout",
     "output_type": "stream",
     "text": [
      "1.33 <class 'float'>\n",
      "1 <class 'int'>\n",
      "1.33 <class 'float'>\n"
     ]
    }
   ],
   "source": [
    "s=1.33\n",
    "print(s,type(s))\n",
    "n=int(s)\n",
    "print(n,type(n))\n",
    "f=float(s)\n",
    "print(f,type(f))"
   ]
  },
  {
   "cell_type": "markdown",
   "id": "0b018e31",
   "metadata": {},
   "source": [
    "# inputs functions\n",
    "- *read inputs for users*"
   ]
  },
  {
   "cell_type": "code",
   "execution_count": 28,
   "id": "61d3e301",
   "metadata": {},
   "outputs": [
    {
     "name": "stdout",
     "output_type": "stream",
     "text": [
      "enter your name:balu\n",
      "my name is: balu\n",
      "<class 'str'>\n"
     ]
    }
   ],
   "source": [
    "# input as text\n",
    "a=input(\"enter your name:\")\n",
    "print(\"my name is:\",a)\n",
    "print(type(a))"
   ]
  },
  {
   "cell_type": "code",
   "execution_count": 31,
   "id": "951ff97a",
   "metadata": {},
   "outputs": [
    {
     "name": "stdout",
     "output_type": "stream",
     "text": [
      "enter a number :154\n",
      "154\n",
      "<class 'int'>\n"
     ]
    }
   ],
   "source": [
    "#inout as number\n",
    "q=int(input(\"enter a number :\"))\n",
    "print(q)\n",
    "print(type(q))"
   ]
  },
  {
   "cell_type": "markdown",
   "id": "9f2cf4ca",
   "metadata": {},
   "source": [
    "# Display three string “Name”, “Is”, “balu” as “Name**Is**balu”"
   ]
  },
  {
   "cell_type": "code",
   "execution_count": 26,
   "id": "ef25f50e",
   "metadata": {},
   "outputs": [
    {
     "name": "stdout",
     "output_type": "stream",
     "text": [
      "name is balu\n"
     ]
    }
   ],
   "source": [
    "a=\"name\"\n",
    "b=\"is\"\n",
    "c=\"balu\"\n",
    "print(a,b,c)"
   ]
  },
  {
   "cell_type": "markdown",
   "id": "1fba4a10",
   "metadata": {},
   "source": [
    "# Write a Python program which accepts the radius of a circle from the user and compute the area ."
   ]
  },
  {
   "cell_type": "code",
   "execution_count": 32,
   "id": "66026231",
   "metadata": {},
   "outputs": [
    {
     "name": "stdout",
     "output_type": "stream",
     "text": [
      "enter a radius5\n",
      "area of the circle: 112.5\n"
     ]
    }
   ],
   "source": [
    "radius=int(input(\"enter a radius\"))\n",
    "area=4.5*radius**2\n",
    "print(\"area of the circle:\",area)"
   ]
  },
  {
   "cell_type": "markdown",
   "id": "7561ee7b",
   "metadata": {},
   "source": [
    "# Accept two numbers from the user and return their sum, multiplication and division"
   ]
  },
  {
   "cell_type": "code",
   "execution_count": 33,
   "id": "dbacd961",
   "metadata": {},
   "outputs": [
    {
     "name": "stdout",
     "output_type": "stream",
     "text": [
      "enter first value:6\n",
      "enter second value:79\n",
      "addition is: 85 multiplication is: 474 division is: 0.0759493670886076\n"
     ]
    }
   ],
   "source": [
    "a=int(input(\"enter first value:\"))\n",
    "b=int(input(\"enter second value:\"))\n",
    "print(\"addition is:\",a+b,\"multiplication is:\",a*b,\"division is:\",a/b)"
   ]
  },
  {
   "cell_type": "markdown",
   "id": "4f5f8f87",
   "metadata": {},
   "source": [
    "# Using input() function, print() function and another function you may need; ask for the current year, then print the answer +21.\n",
    "\n",
    "\n",
    "\n"
   ]
  },
  {
   "cell_type": "code",
   "execution_count": 1,
   "id": "8906298d",
   "metadata": {},
   "outputs": [
    {
     "name": "stdout",
     "output_type": "stream",
     "text": [
      "enter year:64646\n",
      "results= 64667\n"
     ]
    }
   ],
   "source": [
    "year=int(input(\"enter year:\"))\n",
    "print(\"results=\",year+21)"
   ]
  },
  {
   "cell_type": "code",
   "execution_count": null,
   "id": "15decb2e",
   "metadata": {},
   "outputs": [],
   "source": []
  }
 ],
 "metadata": {
  "kernelspec": {
   "display_name": "Python 3",
   "language": "python",
   "name": "python3"
  },
  "language_info": {
   "codemirror_mode": {
    "name": "ipython",
    "version": 3
   },
   "file_extension": ".py",
   "mimetype": "text/x-python",
   "name": "python",
   "nbconvert_exporter": "python",
   "pygments_lexer": "ipython3",
   "version": "3.8.8"
  }
 },
 "nbformat": 4,
 "nbformat_minor": 5
}
