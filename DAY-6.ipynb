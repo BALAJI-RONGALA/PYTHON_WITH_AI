{
 "cells": [
  {
   "cell_type": "code",
   "execution_count": 1,
   "id": "98526869",
   "metadata": {},
   "outputs": [
    {
     "name": "stdout",
     "output_type": "stream",
     "text": [
      "day-6\n"
     ]
    }
   ],
   "source": [
    "print('day-6')"
   ]
  },
  {
   "cell_type": "code",
   "execution_count": 2,
   "id": "d7f56840",
   "metadata": {},
   "outputs": [
    {
     "name": "stdout",
     "output_type": "stream",
     "text": [
      "2 2\n"
     ]
    }
   ],
   "source": [
    "n=2\n",
    "n=int(n)\n",
    "print(n,int(n))"
   ]
  },
  {
   "cell_type": "markdown",
   "id": "c0f3466b",
   "metadata": {},
   "source": [
    "# operators"
   ]
  },
  {
   "cell_type": "markdown",
   "id": "803bbe96",
   "metadata": {},
   "source": [
    "# arthematic operators\n",
    "- **'+'**\n",
    "- **'-'**\n",
    "- **'*'**\n",
    "- **'/'**\n",
    "- **'%'**\n",
    "- **'**'**\n",
    "- **'//'**"
   ]
  },
  {
   "cell_type": "code",
   "execution_count": 4,
   "id": "7abba712",
   "metadata": {},
   "outputs": [
    {
     "name": "stdout",
     "output_type": "stream",
     "text": [
      "112\n",
      "0\n",
      "3136\n",
      "1.0\n",
      "0\n",
      "1\n",
      "79164324866862966607842406018063254671922245312646690223362402918484170424104310169552592050323456\n"
     ]
    }
   ],
   "source": [
    "x=56\n",
    "y=56\n",
    "print(x+y)\n",
    "print(x-y)\n",
    "print(x*y)\n",
    "print(x/y)\n",
    "print(x%y)\n",
    "print(x//y)\n",
    "print(x**y)"
   ]
  },
  {
   "cell_type": "markdown",
   "id": "98b4576b",
   "metadata": {},
   "source": [
    "# assignment operators"
   ]
  },
  {
   "cell_type": "code",
   "execution_count": 5,
   "id": "746085f0",
   "metadata": {},
   "outputs": [
    {
     "name": "stdout",
     "output_type": "stream",
     "text": [
      "12\n",
      "7\n",
      "35\n",
      "11.666666666666666\n",
      "343221367.2648985\n",
      "1.2648984789848328\n",
      "0.0\n"
     ]
    }
   ],
   "source": [
    "x=5\n",
    "x+=7\n",
    "print(x)\n",
    "x-=5\n",
    "print(x)\n",
    "x*=5\n",
    "print(x)\n",
    "x/=3\n",
    "print(x)\n",
    "x**=8\n",
    "print(x)\n",
    "x%=2\n",
    "print(x)\n",
    "x//=4\n",
    "print(x)"
   ]
  },
  {
   "cell_type": "markdown",
   "id": "0e312185",
   "metadata": {},
   "source": [
    "# comparision operators:\n",
    "- used for to compare values\n",
    "- operators:\n"
   ]
  },
  {
   "cell_type": "code",
   "execution_count": 13,
   "id": "33805823",
   "metadata": {},
   "outputs": [
    {
     "name": "stdout",
     "output_type": "stream",
     "text": [
      "True\n",
      "False\n",
      "False\n",
      "False\n",
      "True\n",
      "True\n"
     ]
    }
   ],
   "source": [
    "x=378\n",
    "y=378\n",
    "print(x==y)\n",
    "print(x!=y)\n",
    "print(x<y)\n",
    "print(x>y)\n",
    "print(x<=y)\n",
    "print(x>=y)\n"
   ]
  },
  {
   "cell_type": "markdown",
   "id": "46fca932",
   "metadata": {},
   "source": [
    "# logical operators\n",
    "- used to combine conditional statements\n",
    "- operators"
   ]
  },
  {
   "cell_type": "code",
   "execution_count": 22,
   "id": "65c2e1b4",
   "metadata": {},
   "outputs": [
    {
     "name": "stdout",
     "output_type": "stream",
     "text": [
      "False\n",
      "True\n",
      "True\n"
     ]
    }
   ],
   "source": [
    "x=6\n",
    "print(x>5 and x<5)\n",
    "print(x>5 or x<5)\n",
    "print(not(x>5 and x<5))"
   ]
  },
  {
   "cell_type": "markdown",
   "id": "63a4ab67",
   "metadata": {},
   "source": [
    "# identity operators\n",
    "  - **'is'**\n",
    "  - **'is not'**"
   ]
  },
  {
   "cell_type": "code",
   "execution_count": 23,
   "id": "ffb9ebf2",
   "metadata": {},
   "outputs": [
    {
     "name": "stdout",
     "output_type": "stream",
     "text": [
      "False\n",
      "False\n",
      "False\n"
     ]
    }
   ],
   "source": [
    "a=3\n",
    "b=6\n",
    "c=9\n",
    "print(a is b)\n",
    "print(a is c)\n",
    "print(a is b is not c)"
   ]
  },
  {
   "cell_type": "markdown",
   "id": "d3ad9aad",
   "metadata": {},
   "source": [
    "#  membership operators\n",
    "- used to test given seqence is presented\n",
    "- **'in'**"
   ]
  },
  {
   "cell_type": "code",
   "execution_count": 24,
   "id": "7481c438",
   "metadata": {},
   "outputs": [
    {
     "name": "stdout",
     "output_type": "stream",
     "text": [
      "True\n",
      "True\n",
      "False\n",
      "False\n"
     ]
    }
   ],
   "source": [
    "a=\"balaji\"\n",
    "print(\"b\" in a)\n",
    "print(\"ba\" in a)\n",
    "print(\"bi\" in a)\n",
    "print(\"ba\" not in a)"
   ]
  },
  {
   "cell_type": "markdown",
   "id": "b722eb08",
   "metadata": {},
   "source": [
    "# control flow statements\n",
    "- conditional statements"
   ]
  },
  {
   "cell_type": "code",
   "execution_count": 25,
   "id": "ec449b54",
   "metadata": {},
   "outputs": [
    {
     "name": "stdout",
     "output_type": "stream",
     "text": [
      "enter a number6\n",
      "even number\n"
     ]
    }
   ],
   "source": [
    "# check given number is even or odd\n",
    "n=int (input(\"enter a number\"))\n",
    "if n%2==0:\n",
    "    print(\"even number\")\n",
    "else:\n",
    "    print(\"odd number\")"
   ]
  },
  {
   "cell_type": "code",
   "execution_count": 30,
   "id": "c57da0ec",
   "metadata": {},
   "outputs": [
    {
     "name": "stdout",
     "output_type": "stream",
     "text": [
      "enter a number15\n",
      "yes\n"
     ]
    }
   ],
   "source": [
    "# check given multiples of both 3 and 5\n",
    "n=int(input(\"enter a number\"))\n",
    "if n%3==0 and n%5==0:\n",
    "    print(\"yes\")\n",
    "else:\n",
    "    print(\"no\")"
   ]
  },
  {
   "cell_type": "code",
   "execution_count": 35,
   "id": "2962e539",
   "metadata": {},
   "outputs": [
    {
     "name": "stdout",
     "output_type": "stream",
     "text": [
      "enter a number-22\n",
      "nagitive\n"
     ]
    }
   ],
   "source": [
    "# check given number is positive, nagitive or zero\n",
    "n=int(input(\"enter a number\"))\n",
    "if n==0:\n",
    "      print(\"zero\")\n",
    "elif n>0:\n",
    "      print(\"positive\")\n",
    "else:\n",
    "      print(\"nagitive\")\n",
    "      \n",
    "      "
   ]
  },
  {
   "cell_type": "code",
   "execution_count": 38,
   "id": "d936f084",
   "metadata": {},
   "outputs": [
    {
     "name": "stdout",
     "output_type": "stream",
     "text": [
      "enter first number4\n",
      "enter second number1\n",
      "enter third number9\n",
      "z\n"
     ]
    }
   ],
   "source": [
    "# find a large number from 3 inputs\n",
    "x=int(input(\"enter first number\"))\n",
    "y=int(input(\"enter second number\"))\n",
    "z=int(input(\"enter third number\"))\n",
    "if x>y>z:\n",
    "    print(\"x\")\n",
    "elif y>z:\n",
    "    print(\"y\")\n",
    "else:\n",
    "    print(\"z\")"
   ]
  },
  {
   "cell_type": "code",
   "execution_count": 44,
   "id": "9c6f8301",
   "metadata": {},
   "outputs": [
    {
     "name": "stdout",
     "output_type": "stream",
     "text": [
      "enter a grade46\n",
      "D\n"
     ]
    }
   ],
   "source": [
    "# find grading\n",
    "n=int(input(\"enter a grade\"))\n",
    "if n>=99:\n",
    "    print(\"O\")\n",
    "elif n>=85 and n<99:\n",
    "     print(\"S\")\n",
    "elif n>=75 and n<85:\n",
    "     print(\"A\")\n",
    "elif n>=65 and n<75:\n",
    "     print(\"B\")\n",
    "elif n>=55 and n<65:\n",
    "    print(\"C\")\n",
    "elif n>=45 and n<55:\n",
    "    print(\"D\")\n",
    "else:\n",
    "    print(\"F\")"
   ]
  },
  {
   "cell_type": "markdown",
   "id": "331dbc3d",
   "metadata": {},
   "source": [
    "# WHILE  LOOP STATEMENT\n"
   ]
  },
  {
   "cell_type": "code",
   "execution_count": 45,
   "id": "a9a8a12d",
   "metadata": {},
   "outputs": [
    {
     "name": "stdout",
     "output_type": "stream",
     "text": [
      "balu\n",
      "balu\n",
      "balu\n",
      "balu\n",
      "balu\n"
     ]
    }
   ],
   "source": [
    "# WANT TO PRINT \"BALU\" 5 TIMES \n",
    "i=1\n",
    "while i<=5:\n",
    "    print(\"balu\")\n",
    "    i=i+1\n",
    "    "
   ]
  },
  {
   "cell_type": "code",
   "execution_count": 46,
   "id": "894b3b77",
   "metadata": {},
   "outputs": [
    {
     "name": "stdout",
     "output_type": "stream",
     "text": [
      "1 2 3 4 5 6 7 8 9 10 "
     ]
    }
   ],
   "source": [
    "# print from 1 to 10\n",
    "i=1\n",
    "while i<=10:\n",
    "    print(i,end=\" \")\n",
    "    i=i+1\n",
    "    "
   ]
  },
  {
   "cell_type": "code",
   "execution_count": 2,
   "id": "4a231e6e",
   "metadata": {},
   "outputs": [
    {
     "name": "stdout",
     "output_type": "stream",
     "text": [
      "2 4 6 8 10 12 14 16 18 20 22 24 26 28 30 32 34 36 38 40 42 44 46 48 50 52 54 56 58 60 62 64 66 68 70 72 74 76 78 80 82 84 86 88 90 92 94 96 98 100 "
     ]
    }
   ],
   "source": [
    "#from 1 to 10 numbers print only even numbers\n",
    "i=2\n",
    "while i<=100:\n",
    "    print(i,end=\" \")\n",
    "    i=i+2"
   ]
  },
  {
   "cell_type": "code",
   "execution_count": 1,
   "id": "90faea18",
   "metadata": {},
   "outputs": [
    {
     "name": "stdout",
     "output_type": "stream",
     "text": [
      "enter a number6\n",
      "1 2 3 6 "
     ]
    }
   ],
   "source": [
    "n=int(input(\"enter a number\"))\n",
    "i=1\n",
    "while i<=n:\n",
    "    if n%i==0:\n",
    "        print(i,end=\" \")\n",
    "    i=i+1"
   ]
  },
  {
   "cell_type": "code",
   "execution_count": null,
   "id": "d37bb617",
   "metadata": {},
   "outputs": [],
   "source": []
  },
  {
   "cell_type": "code",
   "execution_count": null,
   "id": "c0f2549d",
   "metadata": {},
   "outputs": [],
   "source": []
  },
  {
   "cell_type": "code",
   "execution_count": null,
   "id": "4644d2ea",
   "metadata": {},
   "outputs": [],
   "source": []
  }
 ],
 "metadata": {
  "kernelspec": {
   "display_name": "Python 3",
   "language": "python",
   "name": "python3"
  },
  "language_info": {
   "codemirror_mode": {
    "name": "ipython",
    "version": 3
   },
   "file_extension": ".py",
   "mimetype": "text/x-python",
   "name": "python",
   "nbconvert_exporter": "python",
   "pygments_lexer": "ipython3",
   "version": "3.8.8"
  }
 },
 "nbformat": 4,
 "nbformat_minor": 5
}
